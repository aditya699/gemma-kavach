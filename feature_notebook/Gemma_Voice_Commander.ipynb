{
 "cells": [
  {
   "cell_type": "markdown",
   "metadata": {},
   "source": [
    "# This notebook will server as a Testing notebook for Gemma Voice Commander"
   ]
  },
  {
   "cell_type": "markdown",
   "metadata": {},
   "source": [
    "# The first feature will be sending audio message to gemma"
   ]
  },
  {
   "cell_type": "code",
   "execution_count": 12,
   "metadata": {},
   "outputs": [
    {
     "name": "stdout",
     "output_type": "stream",
     "text": [
      "🎵 Testing with Google's WAV file...\n",
      "✅ Downloaded Google's WAV file\n",
      "✅ Converted to base64 (393872 chars)\n",
      "🚀 Sending to server...\n",
      "Status: 200\n",
      "✅ Response: Roses are red,\n",
      "violets are blue.\n",
      "✅ Prompt used: Translate this audio into English\n"
     ]
    }
   ],
   "source": [
    "import requests\n",
    "import base64\n",
    "\n",
    "SERVER_URL = \"https://3gdf7gz3vpdp0z-8000.proxy.runpod.net/\"\n",
    "\n",
    "def test_local_wav_audio():\n",
    "    \"\"\"Test local WAV audio with custom prompt\"\"\"\n",
    "    audio_path = \"sample_audio.wav\"  # Use WAV format instead of MP3\n",
    "    prompt = \"What is the user saying ,output in english\"\n",
    "    \n",
    "    try:\n",
    "        with open(audio_path, \"rb\") as f:\n",
    "            audio_data = f.read()\n",
    "        \n",
    "        audio_base64 = base64.b64encode(audio_data).decode(\"utf-8\")\n",
    "        print(f\"✅ Loaded and encoded {audio_path} to base64\")\n",
    "        \n",
    "        data = {\n",
    "            \"data\": audio_base64,\n",
    "            \"prompt\": prompt\n",
    "        }\n",
    "        \n",
    "        print(f\"🚀 Sending to server with prompt: {prompt}\")\n",
    "        response = requests.post(\n",
    "            f\"{SERVER_URL}/ask\",\n",
    "            json=data,\n",
    "            headers={\"Content-Type\": \"application/json\"},\n",
    "            timeout=60\n",
    "        )\n",
    "        \n",
    "        print(f\"Status: {response.status_code}\")\n",
    "        if response.status_code == 200:\n",
    "            result = response.json()\n",
    "            print(f\"✅ Response: {result['text']}\")\n",
    "            print(f\"Prompt used: {result.get('prompt_used', 'N/A')}\")\n",
    "        else:\n",
    "            print(f\"❌ Server error: {response.text}\")\n",
    "            \n",
    "    except FileNotFoundError:\n",
    "        print(f\"❌ {audio_path} not found. Please convert your MP3 to WAV format.\")\n",
    "        print(\"💡 You can convert MP3 to WAV using:\")\n",
    "        print(\"   - Online converters\")\n",
    "        print(\"   - FFmpeg: ffmpeg -i sample_audio.mp3 sample_audio.wav\")\n",
    "        print(\"   - Audacity (free audio editor)\")\n",
    "        \n",
    "    except Exception as e:\n",
    "        print(f\"❌ Error: {e}\")\n",
    "\n",
    "def test_google_wav_audio():\n",
    "    \"\"\"Test with Google's working WAV file\"\"\"\n",
    "    print(\"🎵 Testing with Google's WAV file...\")\n",
    "    \n",
    "    audio_url = \"https://ai.google.dev/gemma/docs/audio/roses-are.wav\"\n",
    "    \n",
    "    try:\n",
    "        response = requests.get(audio_url, timeout=10)\n",
    "        \n",
    "        if response.status_code != 200:\n",
    "            print(f\"❌ Failed to download audio: {response.status_code}\")\n",
    "            return\n",
    "        \n",
    "        print(\"✅ Downloaded Google's WAV file\")\n",
    "        \n",
    "        audio_base64 = base64.b64encode(response.content).decode('utf-8')\n",
    "        print(f\"✅ Converted to base64 ({len(audio_base64)} chars)\")\n",
    "        \n",
    "        data = {\n",
    "            \"data\": audio_base64,\n",
    "            \"prompt\": \"Translate this audio into English\"\n",
    "        }\n",
    "        \n",
    "        print(\"🚀 Sending to server...\")\n",
    "        server_response = requests.post(\n",
    "            f\"{SERVER_URL}/ask\",\n",
    "            json=data,\n",
    "            headers={\"Content-Type\": \"application/json\"},\n",
    "            timeout=60\n",
    "        )\n",
    "        \n",
    "        print(f\"Status: {server_response.status_code}\")\n",
    "        \n",
    "        if server_response.status_code == 200:\n",
    "            result = server_response.json()\n",
    "            print(f\"✅ Response: {result['text']}\")\n",
    "            print(f\"✅ Prompt used: {result['prompt_used']}\")\n",
    "        else:\n",
    "            print(f\"❌ Server error: {server_response.text}\")\n",
    "            \n",
    "    except Exception as e:\n",
    "        print(f\"❌ Error: {e}\")\n",
    "\n",
    "if __name__ == \"__main__\":\n",
    "    choice = input(\"Choose test:\\n1. Local WAV file\\n2. Google's WAV file\\nEnter choice (1-2): \")\n",
    "    \n",
    "    if choice == \"1\":\n",
    "        test_local_wav_audio()\n",
    "    else:\n",
    "        test_google_wav_audio()"
   ]
  },
  {
   "cell_type": "code",
   "execution_count": null,
   "metadata": {},
   "outputs": [],
   "source": []
  }
 ],
 "metadata": {
  "kernelspec": {
   "display_name": "venv",
   "language": "python",
   "name": "python3"
  },
  "language_info": {
   "codemirror_mode": {
    "name": "ipython",
    "version": 3
   },
   "file_extension": ".py",
   "mimetype": "text/x-python",
   "name": "python",
   "nbconvert_exporter": "python",
   "pygments_lexer": "ipython3",
   "version": "3.11.9"
  }
 },
 "nbformat": 4,
 "nbformat_minor": 2
}
