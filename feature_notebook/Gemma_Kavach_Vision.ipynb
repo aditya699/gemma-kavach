{
 "cells": [
  {
   "cell_type": "code",
   "execution_count": 1,
   "metadata": {},
   "outputs": [
    {
     "name": "stdout",
     "output_type": "stream",
     "text": [
      "Note: you may need to restart the kernel to use updated packages.\n"
     ]
    },
    {
     "name": "stderr",
     "output_type": "stream",
     "text": [
      "\n",
      "[notice] A new release of pip is available: 24.0 -> 25.1.1\n",
      "[notice] To update, run: C:\\Users\\aditya\\AppData\\Local\\Microsoft\\WindowsApps\\PythonSoftwareFoundation.Python.3.11_qbz5n2kfra8p0\\python.exe -m pip install --upgrade pip\n"
     ]
    }
   ],
   "source": [
    "%pip install -q opencv-python\n"
   ]
  },
  {
   "cell_type": "code",
   "execution_count": 4,
   "metadata": {},
   "outputs": [
    {
     "name": "stdout",
     "output_type": "stream",
     "text": [
      "📼 FPS: 23.976, Total Frames: 97, Duration: 4.05 seconds\n",
      "✅ Saved frame at 0s -> extracted_frames\\frame_00.jpg\n",
      "✅ Saved frame at 1s -> extracted_frames\\frame_01.jpg\n",
      "✅ Saved frame at 2s -> extracted_frames\\frame_02.jpg\n",
      "✅ Saved frame at 3s -> extracted_frames\\frame_03.jpg\n",
      "✅ Saved frame at 4s -> extracted_frames\\frame_04.jpg\n"
     ]
    }
   ],
   "source": [
    "import cv2\n",
    "import os\n",
    "\n",
    "video_path = \"../sample_data/stempade_1.mp4\"\n",
    "output_dir = \"extracted_frames\"\n",
    "os.makedirs(output_dir, exist_ok=True)\n",
    "\n",
    "cap = cv2.VideoCapture(video_path)\n",
    "fps = cap.get(cv2.CAP_PROP_FPS)\n",
    "frame_count = int(cap.get(cv2.CAP_PROP_FRAME_COUNT))\n",
    "duration = frame_count / fps\n",
    "\n",
    "print(f\"📼 FPS: {fps}, Total Frames: {frame_count}, Duration: {duration:.2f} seconds\")\n",
    "\n",
    "# Extract 1 frame per second\n",
    "current_second = 0\n",
    "frame_id = 0\n",
    "\n",
    "while True:\n",
    "    # Go to the frame at the given second\n",
    "    frame_number = int(current_second * fps)\n",
    "    cap.set(cv2.CAP_PROP_POS_FRAMES, frame_number)\n",
    "    ret, frame = cap.read()\n",
    "\n",
    "    if not ret:\n",
    "        break\n",
    "\n",
    "    output_path = os.path.join(output_dir, f\"frame_{current_second:02d}.jpg\")\n",
    "    cv2.imwrite(output_path, frame)\n",
    "    print(f\"✅ Saved frame at {current_second}s -> {output_path}\")\n",
    "\n",
    "    current_second += 1\n",
    "    if current_second > duration:\n",
    "        break\n",
    "\n",
    "cap.release()\n"
   ]
  },
  {
   "cell_type": "code",
   "execution_count": 5,
   "metadata": {},
   "outputs": [
    {
     "name": "stdout",
     "output_type": "stream",
     "text": [
      "📤 Sending frame_00.jpg...\n",
      "🧠 Response for frame_00.jpg: Yes\n",
      "📤 Sending frame_01.jpg...\n",
      "🧠 Response for frame_01.jpg: Yes\n",
      "📤 Sending frame_02.jpg...\n",
      "🧠 Response for frame_02.jpg: Yes\n",
      "📤 Sending frame_03.jpg...\n",
      "🧠 Response for frame_03.jpg: Yes\n",
      "📤 Sending frame_04.jpg...\n",
      "🧠 Response for frame_04.jpg: Yes\n"
     ]
    }
   ],
   "source": [
    "import os\n",
    "import requests\n",
    "\n",
    "API_URL = \"https://xln0ug8mnka0z8-8000.proxy.runpod.net/ask_image\"\n",
    "FRAME_DIR = \"extracted_frames\"\n",
    "PROMPT = \"Do you see any signs of a stampede or crowd panic? Reply 'Yes' or 'No' only.\"\n",
    "\n",
    "for filename in sorted(os.listdir(FRAME_DIR)):\n",
    "    if filename.endswith(\".jpg\"):\n",
    "        frame_path = os.path.join(FRAME_DIR, filename)\n",
    "        with open(frame_path, \"rb\") as f:\n",
    "            files = {\"image\": (filename, f, \"image/jpeg\")}\n",
    "            data = {\"prompt\": PROMPT}\n",
    "            print(f\"📤 Sending {filename}...\")\n",
    "            try:\n",
    "                response = requests.post(API_URL, files=files, data=data)\n",
    "                if response.ok:\n",
    "                    result = response.json()\n",
    "                    print(f\"🧠 Response for {filename}: {result['text']}\")\n",
    "                else:\n",
    "                    print(f\"❌ Failed on {filename}: {response.status_code} - {response.text}\")\n",
    "            except Exception as e:\n",
    "                print(f\"⚠️ Error for {filename}: {e}\")\n"
   ]
  },
  {
   "cell_type": "code",
   "execution_count": null,
   "metadata": {},
   "outputs": [],
   "source": []
  },
  {
   "cell_type": "code",
   "execution_count": null,
   "metadata": {},
   "outputs": [],
   "source": []
  }
 ],
 "metadata": {
  "kernelspec": {
   "display_name": "Python 3",
   "language": "python",
   "name": "python3"
  },
  "language_info": {
   "codemirror_mode": {
    "name": "ipython",
    "version": 3
   },
   "file_extension": ".py",
   "mimetype": "text/x-python",
   "name": "python",
   "nbconvert_exporter": "python",
   "pygments_lexer": "ipython3",
   "version": "3.11.9"
  }
 },
 "nbformat": 4,
 "nbformat_minor": 2
}
